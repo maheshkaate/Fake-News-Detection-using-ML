{
  "cells": [
    {
      "cell_type": "code",
      "execution_count": 87,
      "metadata": {
        "id": "O17qd6XKOqgE"
      },
      "outputs": [],
      "source": [
        "import pandas as pd\n",
        "import numpy as np\n",
        "import seaborn as sns\n",
        "import matplotlib.pyplot as plt\n",
        "from sklearn.model_selection import train_test_split\n",
        "from sklearn.metrics import accuracy_score\n",
        "from sklearn.metrics import classification_report\n",
        "import re\n",
        "import string"
      ]
    },
    {
      "cell_type": "code",
      "execution_count": 92,
      "metadata": {
        "id": "9HpmqensOy0c"
      },
      "outputs": [
        {
          "name": "stderr",
          "output_type": "stream",
          "text": [
            "C:\\Users\\lenovo\\AppData\\Local\\Temp\\ipykernel_17712\\2087879451.py:1: DtypeWarning: Columns (4,5,6,7,8,9,10,11,12,13,14,15,16,17,18,19,20,21,22,23,24,25,26,27,28,29,30,31,32,33,34,35,36,37,38,39,40,41,42,43,44,45,46,47,48,49,50,51,52,53,54,55,56,57,58,59,60,61,62,63,64,65,66,67,68,69,70,71,72,73,74,75,76,77,78,79,80,81,82,83,84,85,86,87,88,89,90,91,92,93,94,95,96,97,98,99,100,101,102,103,104,105,106,107,108,109,110,111,112,113,114,115,116,117,118,119,120,121,122,123,124,125,126,127,128,129,130,131,132,133,134,135,136,137,138,139,140,141,142,143,144,145,146,147,148,149,150,151,152,153,154,155,156,157,158,159,160,161,162,163,164,165,166,167,168,169,170,171) have mixed types. Specify dtype option on import or set low_memory=False.\n",
            "  df_fake = pd.read_csv(\"Fake.csv\")\n"
          ]
        }
      ],
      "source": [
        "df_fake = pd.read_csv(\"Fake.csv\")\n",
        "df_true = pd.read_csv(\"True.csv\")"
      ]
    },
    {
      "cell_type": "code",
      "execution_count": 93,
      "metadata": {},
      "outputs": [
        {
          "data": {
            "text/html": [
              "<div>\n",
              "<style scoped>\n",
              "    .dataframe tbody tr th:only-of-type {\n",
              "        vertical-align: middle;\n",
              "    }\n",
              "\n",
              "    .dataframe tbody tr th {\n",
              "        vertical-align: top;\n",
              "    }\n",
              "\n",
              "    .dataframe thead th {\n",
              "        text-align: right;\n",
              "    }\n",
              "</style>\n",
              "<table border=\"1\" class=\"dataframe\">\n",
              "  <thead>\n",
              "    <tr style=\"text-align: right;\">\n",
              "      <th></th>\n",
              "      <th>title</th>\n",
              "      <th>text</th>\n",
              "      <th>subject</th>\n",
              "      <th>date</th>\n",
              "      <th>Unnamed: 4</th>\n",
              "      <th>Unnamed: 5</th>\n",
              "      <th>Unnamed: 6</th>\n",
              "      <th>Unnamed: 7</th>\n",
              "      <th>Unnamed: 8</th>\n",
              "      <th>Unnamed: 9</th>\n",
              "      <th>...</th>\n",
              "      <th>Unnamed: 162</th>\n",
              "      <th>Unnamed: 163</th>\n",
              "      <th>Unnamed: 164</th>\n",
              "      <th>Unnamed: 165</th>\n",
              "      <th>Unnamed: 166</th>\n",
              "      <th>Unnamed: 167</th>\n",
              "      <th>Unnamed: 168</th>\n",
              "      <th>Unnamed: 169</th>\n",
              "      <th>Unnamed: 170</th>\n",
              "      <th>Unnamed: 171</th>\n",
              "    </tr>\n",
              "  </thead>\n",
              "  <tbody>\n",
              "    <tr>\n",
              "      <th>0</th>\n",
              "      <td>Donald Trump Sends Out Embarrassing New Year’...</td>\n",
              "      <td>Donald Trump just couldn t wish all Americans ...</td>\n",
              "      <td>News</td>\n",
              "      <td>31-Dec-17</td>\n",
              "      <td>NaN</td>\n",
              "      <td>NaN</td>\n",
              "      <td>NaN</td>\n",
              "      <td>NaN</td>\n",
              "      <td>NaN</td>\n",
              "      <td>NaN</td>\n",
              "      <td>...</td>\n",
              "      <td>NaN</td>\n",
              "      <td>NaN</td>\n",
              "      <td>NaN</td>\n",
              "      <td>NaN</td>\n",
              "      <td>NaN</td>\n",
              "      <td>NaN</td>\n",
              "      <td>NaN</td>\n",
              "      <td>NaN</td>\n",
              "      <td>NaN</td>\n",
              "      <td>NaN</td>\n",
              "    </tr>\n",
              "    <tr>\n",
              "      <th>1</th>\n",
              "      <td>Drunk Bragging Trump Staffer Started Russian ...</td>\n",
              "      <td>House Intelligence Committee Chairman Devin Nu...</td>\n",
              "      <td>News</td>\n",
              "      <td>31-Dec-17</td>\n",
              "      <td>NaN</td>\n",
              "      <td>NaN</td>\n",
              "      <td>NaN</td>\n",
              "      <td>NaN</td>\n",
              "      <td>NaN</td>\n",
              "      <td>NaN</td>\n",
              "      <td>...</td>\n",
              "      <td>NaN</td>\n",
              "      <td>NaN</td>\n",
              "      <td>NaN</td>\n",
              "      <td>NaN</td>\n",
              "      <td>NaN</td>\n",
              "      <td>NaN</td>\n",
              "      <td>NaN</td>\n",
              "      <td>NaN</td>\n",
              "      <td>NaN</td>\n",
              "      <td>NaN</td>\n",
              "    </tr>\n",
              "    <tr>\n",
              "      <th>2</th>\n",
              "      <td>Sheriff David Clarke Becomes An Internet Joke...</td>\n",
              "      <td>On Friday, it was revealed that former Milwauk...</td>\n",
              "      <td>News</td>\n",
              "      <td>30-Dec-17</td>\n",
              "      <td>NaN</td>\n",
              "      <td>NaN</td>\n",
              "      <td>NaN</td>\n",
              "      <td>NaN</td>\n",
              "      <td>NaN</td>\n",
              "      <td>NaN</td>\n",
              "      <td>...</td>\n",
              "      <td>NaN</td>\n",
              "      <td>NaN</td>\n",
              "      <td>NaN</td>\n",
              "      <td>NaN</td>\n",
              "      <td>NaN</td>\n",
              "      <td>NaN</td>\n",
              "      <td>NaN</td>\n",
              "      <td>NaN</td>\n",
              "      <td>NaN</td>\n",
              "      <td>NaN</td>\n",
              "    </tr>\n",
              "    <tr>\n",
              "      <th>3</th>\n",
              "      <td>Trump Is So Obsessed He Even Has Obama’s Name...</td>\n",
              "      <td>On Christmas day, Donald Trump announced that ...</td>\n",
              "      <td>News</td>\n",
              "      <td>29-Dec-17</td>\n",
              "      <td>NaN</td>\n",
              "      <td>NaN</td>\n",
              "      <td>NaN</td>\n",
              "      <td>NaN</td>\n",
              "      <td>NaN</td>\n",
              "      <td>NaN</td>\n",
              "      <td>...</td>\n",
              "      <td>NaN</td>\n",
              "      <td>NaN</td>\n",
              "      <td>NaN</td>\n",
              "      <td>NaN</td>\n",
              "      <td>NaN</td>\n",
              "      <td>NaN</td>\n",
              "      <td>NaN</td>\n",
              "      <td>NaN</td>\n",
              "      <td>NaN</td>\n",
              "      <td>NaN</td>\n",
              "    </tr>\n",
              "    <tr>\n",
              "      <th>4</th>\n",
              "      <td>Pope Francis Just Called Out Donald Trump Dur...</td>\n",
              "      <td>Pope Francis used his annual Christmas Day mes...</td>\n",
              "      <td>News</td>\n",
              "      <td>25-Dec-17</td>\n",
              "      <td>NaN</td>\n",
              "      <td>NaN</td>\n",
              "      <td>NaN</td>\n",
              "      <td>NaN</td>\n",
              "      <td>NaN</td>\n",
              "      <td>NaN</td>\n",
              "      <td>...</td>\n",
              "      <td>NaN</td>\n",
              "      <td>NaN</td>\n",
              "      <td>NaN</td>\n",
              "      <td>NaN</td>\n",
              "      <td>NaN</td>\n",
              "      <td>NaN</td>\n",
              "      <td>NaN</td>\n",
              "      <td>NaN</td>\n",
              "      <td>NaN</td>\n",
              "      <td>NaN</td>\n",
              "    </tr>\n",
              "  </tbody>\n",
              "</table>\n",
              "<p>5 rows × 172 columns</p>\n",
              "</div>"
            ],
            "text/plain": [
              "                                               title  \\\n",
              "0   Donald Trump Sends Out Embarrassing New Year’...   \n",
              "1   Drunk Bragging Trump Staffer Started Russian ...   \n",
              "2   Sheriff David Clarke Becomes An Internet Joke...   \n",
              "3   Trump Is So Obsessed He Even Has Obama’s Name...   \n",
              "4   Pope Francis Just Called Out Donald Trump Dur...   \n",
              "\n",
              "                                                text subject       date  \\\n",
              "0  Donald Trump just couldn t wish all Americans ...    News  31-Dec-17   \n",
              "1  House Intelligence Committee Chairman Devin Nu...    News  31-Dec-17   \n",
              "2  On Friday, it was revealed that former Milwauk...    News  30-Dec-17   \n",
              "3  On Christmas day, Donald Trump announced that ...    News  29-Dec-17   \n",
              "4  Pope Francis used his annual Christmas Day mes...    News  25-Dec-17   \n",
              "\n",
              "  Unnamed: 4 Unnamed: 5 Unnamed: 6 Unnamed: 7 Unnamed: 8 Unnamed: 9  ...  \\\n",
              "0        NaN        NaN        NaN        NaN        NaN        NaN  ...   \n",
              "1        NaN        NaN        NaN        NaN        NaN        NaN  ...   \n",
              "2        NaN        NaN        NaN        NaN        NaN        NaN  ...   \n",
              "3        NaN        NaN        NaN        NaN        NaN        NaN  ...   \n",
              "4        NaN        NaN        NaN        NaN        NaN        NaN  ...   \n",
              "\n",
              "  Unnamed: 162 Unnamed: 163 Unnamed: 164 Unnamed: 165 Unnamed: 166  \\\n",
              "0          NaN          NaN          NaN          NaN          NaN   \n",
              "1          NaN          NaN          NaN          NaN          NaN   \n",
              "2          NaN          NaN          NaN          NaN          NaN   \n",
              "3          NaN          NaN          NaN          NaN          NaN   \n",
              "4          NaN          NaN          NaN          NaN          NaN   \n",
              "\n",
              "  Unnamed: 167 Unnamed: 168 Unnamed: 169 Unnamed: 170 Unnamed: 171  \n",
              "0          NaN          NaN          NaN          NaN          NaN  \n",
              "1          NaN          NaN          NaN          NaN          NaN  \n",
              "2          NaN          NaN          NaN          NaN          NaN  \n",
              "3          NaN          NaN          NaN          NaN          NaN  \n",
              "4          NaN          NaN          NaN          NaN          NaN  \n",
              "\n",
              "[5 rows x 172 columns]"
            ]
          },
          "execution_count": 93,
          "metadata": {},
          "output_type": "execute_result"
        }
      ],
      "source": [
        "df_fake.head()"
      ]
    },
    {
      "cell_type": "code",
      "execution_count": 94,
      "metadata": {
        "colab": {
          "base_uri": "https://localhost:8080/",
          "height": 293
        },
        "id": "Yxk3bRH0Q7gc",
        "outputId": "7efe3cf8-fd23-4c26-c1d6-f9946b1490bf"
      },
      "outputs": [
        {
          "data": {
            "text/html": [
              "<div>\n",
              "<style scoped>\n",
              "    .dataframe tbody tr th:only-of-type {\n",
              "        vertical-align: middle;\n",
              "    }\n",
              "\n",
              "    .dataframe tbody tr th {\n",
              "        vertical-align: top;\n",
              "    }\n",
              "\n",
              "    .dataframe thead th {\n",
              "        text-align: right;\n",
              "    }\n",
              "</style>\n",
              "<table border=\"1\" class=\"dataframe\">\n",
              "  <thead>\n",
              "    <tr style=\"text-align: right;\">\n",
              "      <th></th>\n",
              "      <th>title</th>\n",
              "      <th>text</th>\n",
              "      <th>subject</th>\n",
              "      <th>date</th>\n",
              "    </tr>\n",
              "  </thead>\n",
              "  <tbody>\n",
              "    <tr>\n",
              "      <th>0</th>\n",
              "      <td>As U.S. budget fight looms, Republicans flip t...</td>\n",
              "      <td>WASHINGTON () - The head of a conservative Rep...</td>\n",
              "      <td>politicsNews</td>\n",
              "      <td>December 31, 2017</td>\n",
              "    </tr>\n",
              "    <tr>\n",
              "      <th>1</th>\n",
              "      <td>U.S. military to accept transgender recruits o...</td>\n",
              "      <td>WASHINGTON () - Transgender people will be all...</td>\n",
              "      <td>politicsNews</td>\n",
              "      <td>December 29, 2017</td>\n",
              "    </tr>\n",
              "    <tr>\n",
              "      <th>2</th>\n",
              "      <td>Senior U.S. Republican senator: 'Let Mr. Muell...</td>\n",
              "      <td>WASHINGTON () - The special counsel investigat...</td>\n",
              "      <td>politicsNews</td>\n",
              "      <td>December 31, 2017</td>\n",
              "    </tr>\n",
              "    <tr>\n",
              "      <th>3</th>\n",
              "      <td>FBI Russia probe helped by Australian diplomat...</td>\n",
              "      <td>WASHINGTON () - Trump campaign adviser George ...</td>\n",
              "      <td>politicsNews</td>\n",
              "      <td>December 30, 2017</td>\n",
              "    </tr>\n",
              "    <tr>\n",
              "      <th>4</th>\n",
              "      <td>Trump wants Postal Service to charge 'much mor...</td>\n",
              "      <td>SEATTLE/WASHINGTON () - President Donald Trump...</td>\n",
              "      <td>politicsNews</td>\n",
              "      <td>December 29, 2017</td>\n",
              "    </tr>\n",
              "  </tbody>\n",
              "</table>\n",
              "</div>"
            ],
            "text/plain": [
              "                                               title  \\\n",
              "0  As U.S. budget fight looms, Republicans flip t...   \n",
              "1  U.S. military to accept transgender recruits o...   \n",
              "2  Senior U.S. Republican senator: 'Let Mr. Muell...   \n",
              "3  FBI Russia probe helped by Australian diplomat...   \n",
              "4  Trump wants Postal Service to charge 'much mor...   \n",
              "\n",
              "                                                text       subject  \\\n",
              "0  WASHINGTON () - The head of a conservative Rep...  politicsNews   \n",
              "1  WASHINGTON () - Transgender people will be all...  politicsNews   \n",
              "2  WASHINGTON () - The special counsel investigat...  politicsNews   \n",
              "3  WASHINGTON () - Trump campaign adviser George ...  politicsNews   \n",
              "4  SEATTLE/WASHINGTON () - President Donald Trump...  politicsNews   \n",
              "\n",
              "                 date  \n",
              "0  December 31, 2017   \n",
              "1  December 29, 2017   \n",
              "2  December 31, 2017   \n",
              "3  December 30, 2017   \n",
              "4  December 29, 2017   "
            ]
          },
          "execution_count": 94,
          "metadata": {},
          "output_type": "execute_result"
        }
      ],
      "source": [
        "df_true[\"text\"] = df_true[\"text\"].replace(\"(Reuters)\",\"\",regex=True)\n",
        "df_true.head()"
      ]
    },
    {
      "cell_type": "code",
      "execution_count": 95,
      "metadata": {
        "id": "iYLT28MVQ9OX"
      },
      "outputs": [],
      "source": [
        "df_fake[\"target\"] = 0\n",
        "df_true[\"target\"] = 1"
      ]
    },
    {
      "cell_type": "code",
      "execution_count": 96,
      "metadata": {
        "colab": {
          "base_uri": "https://localhost:8080/",
          "height": 537
        },
        "id": "zkorjsKwQ-1J",
        "outputId": "91a8d607-ad9e-4953-ea03-7015698e9d3e"
      },
      "outputs": [
        {
          "data": {
            "text/html": [
              "<div>\n",
              "<style scoped>\n",
              "    .dataframe tbody tr th:only-of-type {\n",
              "        vertical-align: middle;\n",
              "    }\n",
              "\n",
              "    .dataframe tbody tr th {\n",
              "        vertical-align: top;\n",
              "    }\n",
              "\n",
              "    .dataframe thead th {\n",
              "        text-align: right;\n",
              "    }\n",
              "</style>\n",
              "<table border=\"1\" class=\"dataframe\">\n",
              "  <thead>\n",
              "    <tr style=\"text-align: right;\">\n",
              "      <th></th>\n",
              "      <th>title</th>\n",
              "      <th>text</th>\n",
              "      <th>subject</th>\n",
              "      <th>date</th>\n",
              "      <th>target</th>\n",
              "    </tr>\n",
              "  </thead>\n",
              "  <tbody>\n",
              "    <tr>\n",
              "      <th>0</th>\n",
              "      <td>As U.S. budget fight looms, Republicans flip t...</td>\n",
              "      <td>WASHINGTON () - The head of a conservative Rep...</td>\n",
              "      <td>politicsNews</td>\n",
              "      <td>December 31, 2017</td>\n",
              "      <td>1</td>\n",
              "    </tr>\n",
              "    <tr>\n",
              "      <th>1</th>\n",
              "      <td>U.S. military to accept transgender recruits o...</td>\n",
              "      <td>WASHINGTON () - Transgender people will be all...</td>\n",
              "      <td>politicsNews</td>\n",
              "      <td>December 29, 2017</td>\n",
              "      <td>1</td>\n",
              "    </tr>\n",
              "    <tr>\n",
              "      <th>2</th>\n",
              "      <td>Senior U.S. Republican senator: 'Let Mr. Muell...</td>\n",
              "      <td>WASHINGTON () - The special counsel investigat...</td>\n",
              "      <td>politicsNews</td>\n",
              "      <td>December 31, 2017</td>\n",
              "      <td>1</td>\n",
              "    </tr>\n",
              "    <tr>\n",
              "      <th>3</th>\n",
              "      <td>FBI Russia probe helped by Australian diplomat...</td>\n",
              "      <td>WASHINGTON () - Trump campaign adviser George ...</td>\n",
              "      <td>politicsNews</td>\n",
              "      <td>December 30, 2017</td>\n",
              "      <td>1</td>\n",
              "    </tr>\n",
              "    <tr>\n",
              "      <th>4</th>\n",
              "      <td>Trump wants Postal Service to charge 'much mor...</td>\n",
              "      <td>SEATTLE/WASHINGTON () - President Donald Trump...</td>\n",
              "      <td>politicsNews</td>\n",
              "      <td>December 29, 2017</td>\n",
              "      <td>1</td>\n",
              "    </tr>\n",
              "    <tr>\n",
              "      <th>5</th>\n",
              "      <td>White House, Congress prepare for talks on spe...</td>\n",
              "      <td>WEST PALM BEACH, Fla./WASHINGTON () - The Whit...</td>\n",
              "      <td>politicsNews</td>\n",
              "      <td>December 29, 2017</td>\n",
              "      <td>1</td>\n",
              "    </tr>\n",
              "    <tr>\n",
              "      <th>6</th>\n",
              "      <td>Trump says Russia probe will be fair, but time...</td>\n",
              "      <td>WEST PALM BEACH, Fla () - President Donald Tru...</td>\n",
              "      <td>politicsNews</td>\n",
              "      <td>December 29, 2017</td>\n",
              "      <td>1</td>\n",
              "    </tr>\n",
              "    <tr>\n",
              "      <th>7</th>\n",
              "      <td>Factbox: Trump on Twitter (Dec 29) - Approval ...</td>\n",
              "      <td>The following statements were posted to the ve...</td>\n",
              "      <td>politicsNews</td>\n",
              "      <td>December 29, 2017</td>\n",
              "      <td>1</td>\n",
              "    </tr>\n",
              "    <tr>\n",
              "      <th>8</th>\n",
              "      <td>Trump on Twitter (Dec 28) - Global Warming</td>\n",
              "      <td>The following statements were posted to the ve...</td>\n",
              "      <td>politicsNews</td>\n",
              "      <td>December 29, 2017</td>\n",
              "      <td>1</td>\n",
              "    </tr>\n",
              "    <tr>\n",
              "      <th>9</th>\n",
              "      <td>Alabama official to certify Senator-elect Jone...</td>\n",
              "      <td>WASHINGTON () - Alabama Secretary of State Joh...</td>\n",
              "      <td>politicsNews</td>\n",
              "      <td>December 28, 2017</td>\n",
              "      <td>1</td>\n",
              "    </tr>\n",
              "  </tbody>\n",
              "</table>\n",
              "</div>"
            ],
            "text/plain": [
              "                                               title  \\\n",
              "0  As U.S. budget fight looms, Republicans flip t...   \n",
              "1  U.S. military to accept transgender recruits o...   \n",
              "2  Senior U.S. Republican senator: 'Let Mr. Muell...   \n",
              "3  FBI Russia probe helped by Australian diplomat...   \n",
              "4  Trump wants Postal Service to charge 'much mor...   \n",
              "5  White House, Congress prepare for talks on spe...   \n",
              "6  Trump says Russia probe will be fair, but time...   \n",
              "7  Factbox: Trump on Twitter (Dec 29) - Approval ...   \n",
              "8         Trump on Twitter (Dec 28) - Global Warming   \n",
              "9  Alabama official to certify Senator-elect Jone...   \n",
              "\n",
              "                                                text       subject  \\\n",
              "0  WASHINGTON () - The head of a conservative Rep...  politicsNews   \n",
              "1  WASHINGTON () - Transgender people will be all...  politicsNews   \n",
              "2  WASHINGTON () - The special counsel investigat...  politicsNews   \n",
              "3  WASHINGTON () - Trump campaign adviser George ...  politicsNews   \n",
              "4  SEATTLE/WASHINGTON () - President Donald Trump...  politicsNews   \n",
              "5  WEST PALM BEACH, Fla./WASHINGTON () - The Whit...  politicsNews   \n",
              "6  WEST PALM BEACH, Fla () - President Donald Tru...  politicsNews   \n",
              "7  The following statements were posted to the ve...  politicsNews   \n",
              "8  The following statements were posted to the ve...  politicsNews   \n",
              "9  WASHINGTON () - Alabama Secretary of State Joh...  politicsNews   \n",
              "\n",
              "                 date  target  \n",
              "0  December 31, 2017        1  \n",
              "1  December 29, 2017        1  \n",
              "2  December 31, 2017        1  \n",
              "3  December 30, 2017        1  \n",
              "4  December 29, 2017        1  \n",
              "5  December 29, 2017        1  \n",
              "6  December 29, 2017        1  \n",
              "7  December 29, 2017        1  \n",
              "8  December 29, 2017        1  \n",
              "9  December 28, 2017        1  "
            ]
          },
          "execution_count": 96,
          "metadata": {},
          "output_type": "execute_result"
        }
      ],
      "source": [
        "df_true.head(10)"
      ]
    },
    {
      "cell_type": "code",
      "execution_count": 97,
      "metadata": {},
      "outputs": [],
      "source": [
        "df_fake = df_fake .loc[:, ~df_fake .columns.str.startswith('Unnamed')]"
      ]
    },
    {
      "cell_type": "code",
      "execution_count": 98,
      "metadata": {
        "colab": {
          "base_uri": "https://localhost:8080/",
          "height": 537
        },
        "id": "ZxQ1j6t6ZA7N",
        "outputId": "56f02e64-deef-4f08-e1a5-7841d20d034b"
      },
      "outputs": [
        {
          "data": {
            "text/html": [
              "<div>\n",
              "<style scoped>\n",
              "    .dataframe tbody tr th:only-of-type {\n",
              "        vertical-align: middle;\n",
              "    }\n",
              "\n",
              "    .dataframe tbody tr th {\n",
              "        vertical-align: top;\n",
              "    }\n",
              "\n",
              "    .dataframe thead th {\n",
              "        text-align: right;\n",
              "    }\n",
              "</style>\n",
              "<table border=\"1\" class=\"dataframe\">\n",
              "  <thead>\n",
              "    <tr style=\"text-align: right;\">\n",
              "      <th></th>\n",
              "      <th>title</th>\n",
              "      <th>text</th>\n",
              "      <th>subject</th>\n",
              "      <th>date</th>\n",
              "      <th>target</th>\n",
              "    </tr>\n",
              "  </thead>\n",
              "  <tbody>\n",
              "    <tr>\n",
              "      <th>0</th>\n",
              "      <td>Donald Trump Sends Out Embarrassing New Year’...</td>\n",
              "      <td>Donald Trump just couldn t wish all Americans ...</td>\n",
              "      <td>News</td>\n",
              "      <td>31-Dec-17</td>\n",
              "      <td>0</td>\n",
              "    </tr>\n",
              "    <tr>\n",
              "      <th>1</th>\n",
              "      <td>Drunk Bragging Trump Staffer Started Russian ...</td>\n",
              "      <td>House Intelligence Committee Chairman Devin Nu...</td>\n",
              "      <td>News</td>\n",
              "      <td>31-Dec-17</td>\n",
              "      <td>0</td>\n",
              "    </tr>\n",
              "    <tr>\n",
              "      <th>2</th>\n",
              "      <td>Sheriff David Clarke Becomes An Internet Joke...</td>\n",
              "      <td>On Friday, it was revealed that former Milwauk...</td>\n",
              "      <td>News</td>\n",
              "      <td>30-Dec-17</td>\n",
              "      <td>0</td>\n",
              "    </tr>\n",
              "    <tr>\n",
              "      <th>3</th>\n",
              "      <td>Trump Is So Obsessed He Even Has Obama’s Name...</td>\n",
              "      <td>On Christmas day, Donald Trump announced that ...</td>\n",
              "      <td>News</td>\n",
              "      <td>29-Dec-17</td>\n",
              "      <td>0</td>\n",
              "    </tr>\n",
              "    <tr>\n",
              "      <th>4</th>\n",
              "      <td>Pope Francis Just Called Out Donald Trump Dur...</td>\n",
              "      <td>Pope Francis used his annual Christmas Day mes...</td>\n",
              "      <td>News</td>\n",
              "      <td>25-Dec-17</td>\n",
              "      <td>0</td>\n",
              "    </tr>\n",
              "    <tr>\n",
              "      <th>5</th>\n",
              "      <td>Racist Alabama Cops Brutalize Black Boy While...</td>\n",
              "      <td>The number of cases of cops brutalizing and ki...</td>\n",
              "      <td>News</td>\n",
              "      <td>25-Dec-17</td>\n",
              "      <td>0</td>\n",
              "    </tr>\n",
              "    <tr>\n",
              "      <th>6</th>\n",
              "      <td>Fresh Off The Golf Course, Trump Lashes Out A...</td>\n",
              "      <td>Donald Trump spent a good portion of his day a...</td>\n",
              "      <td>News</td>\n",
              "      <td>23-Dec-17</td>\n",
              "      <td>0</td>\n",
              "    </tr>\n",
              "    <tr>\n",
              "      <th>7</th>\n",
              "      <td>Trump Said Some INSANELY Racist Stuff Inside ...</td>\n",
              "      <td>In the wake of yet another court decision that...</td>\n",
              "      <td>News</td>\n",
              "      <td>23-Dec-17</td>\n",
              "      <td>0</td>\n",
              "    </tr>\n",
              "    <tr>\n",
              "      <th>8</th>\n",
              "      <td>Former CIA Director Slams Trump Over UN Bully...</td>\n",
              "      <td>Many people have raised the alarm regarding th...</td>\n",
              "      <td>News</td>\n",
              "      <td>22-Dec-17</td>\n",
              "      <td>0</td>\n",
              "    </tr>\n",
              "    <tr>\n",
              "      <th>9</th>\n",
              "      <td>WATCH: Brand-New Pro-Trump Ad Features So Muc...</td>\n",
              "      <td>Just when you might have thought we d get a br...</td>\n",
              "      <td>News</td>\n",
              "      <td>21-Dec-17</td>\n",
              "      <td>0</td>\n",
              "    </tr>\n",
              "  </tbody>\n",
              "</table>\n",
              "</div>"
            ],
            "text/plain": [
              "                                               title  \\\n",
              "0   Donald Trump Sends Out Embarrassing New Year’...   \n",
              "1   Drunk Bragging Trump Staffer Started Russian ...   \n",
              "2   Sheriff David Clarke Becomes An Internet Joke...   \n",
              "3   Trump Is So Obsessed He Even Has Obama’s Name...   \n",
              "4   Pope Francis Just Called Out Donald Trump Dur...   \n",
              "5   Racist Alabama Cops Brutalize Black Boy While...   \n",
              "6   Fresh Off The Golf Course, Trump Lashes Out A...   \n",
              "7   Trump Said Some INSANELY Racist Stuff Inside ...   \n",
              "8   Former CIA Director Slams Trump Over UN Bully...   \n",
              "9   WATCH: Brand-New Pro-Trump Ad Features So Muc...   \n",
              "\n",
              "                                                text subject       date  \\\n",
              "0  Donald Trump just couldn t wish all Americans ...    News  31-Dec-17   \n",
              "1  House Intelligence Committee Chairman Devin Nu...    News  31-Dec-17   \n",
              "2  On Friday, it was revealed that former Milwauk...    News  30-Dec-17   \n",
              "3  On Christmas day, Donald Trump announced that ...    News  29-Dec-17   \n",
              "4  Pope Francis used his annual Christmas Day mes...    News  25-Dec-17   \n",
              "5  The number of cases of cops brutalizing and ki...    News  25-Dec-17   \n",
              "6  Donald Trump spent a good portion of his day a...    News  23-Dec-17   \n",
              "7  In the wake of yet another court decision that...    News  23-Dec-17   \n",
              "8  Many people have raised the alarm regarding th...    News  22-Dec-17   \n",
              "9  Just when you might have thought we d get a br...    News  21-Dec-17   \n",
              "\n",
              "   target  \n",
              "0       0  \n",
              "1       0  \n",
              "2       0  \n",
              "3       0  \n",
              "4       0  \n",
              "5       0  \n",
              "6       0  \n",
              "7       0  \n",
              "8       0  \n",
              "9       0  "
            ]
          },
          "execution_count": 98,
          "metadata": {},
          "output_type": "execute_result"
        }
      ],
      "source": [
        "df_fake.head(10)"
      ]
    },
    {
      "cell_type": "code",
      "execution_count": 99,
      "metadata": {
        "id": "rcXrYjFdZMoy"
      },
      "outputs": [],
      "source": [
        "df_fake = df_fake.drop([\"title\",\"subject\",\"date\"],axis = 1)\n",
        "df_true = df_true.drop([\"title\",\"subject\",\"date\"],axis = 1)"
      ]
    },
    {
      "cell_type": "code",
      "execution_count": 100,
      "metadata": {
        "id": "EjwHlDUvZO9s"
      },
      "outputs": [],
      "source": [
        "df = pd.concat([df_fake,df_true],axis = 0)"
      ]
    },
    {
      "cell_type": "code",
      "execution_count": 101,
      "metadata": {
        "colab": {
          "base_uri": "https://localhost:8080/",
          "height": 363
        },
        "id": "Y1y25U7_ZSOU",
        "outputId": "cf52d04a-fd52-473b-9042-7b1fb3deecac"
      },
      "outputs": [
        {
          "data": {
            "text/html": [
              "<div>\n",
              "<style scoped>\n",
              "    .dataframe tbody tr th:only-of-type {\n",
              "        vertical-align: middle;\n",
              "    }\n",
              "\n",
              "    .dataframe tbody tr th {\n",
              "        vertical-align: top;\n",
              "    }\n",
              "\n",
              "    .dataframe thead th {\n",
              "        text-align: right;\n",
              "    }\n",
              "</style>\n",
              "<table border=\"1\" class=\"dataframe\">\n",
              "  <thead>\n",
              "    <tr style=\"text-align: right;\">\n",
              "      <th></th>\n",
              "      <th>text</th>\n",
              "      <th>target</th>\n",
              "    </tr>\n",
              "  </thead>\n",
              "  <tbody>\n",
              "    <tr>\n",
              "      <th>0</th>\n",
              "      <td>Donald Trump just couldn t wish all Americans ...</td>\n",
              "      <td>0</td>\n",
              "    </tr>\n",
              "    <tr>\n",
              "      <th>1</th>\n",
              "      <td>House Intelligence Committee Chairman Devin Nu...</td>\n",
              "      <td>0</td>\n",
              "    </tr>\n",
              "    <tr>\n",
              "      <th>2</th>\n",
              "      <td>On Friday, it was revealed that former Milwauk...</td>\n",
              "      <td>0</td>\n",
              "    </tr>\n",
              "    <tr>\n",
              "      <th>3</th>\n",
              "      <td>On Christmas day, Donald Trump announced that ...</td>\n",
              "      <td>0</td>\n",
              "    </tr>\n",
              "    <tr>\n",
              "      <th>4</th>\n",
              "      <td>Pope Francis used his annual Christmas Day mes...</td>\n",
              "      <td>0</td>\n",
              "    </tr>\n",
              "    <tr>\n",
              "      <th>5</th>\n",
              "      <td>The number of cases of cops brutalizing and ki...</td>\n",
              "      <td>0</td>\n",
              "    </tr>\n",
              "    <tr>\n",
              "      <th>6</th>\n",
              "      <td>Donald Trump spent a good portion of his day a...</td>\n",
              "      <td>0</td>\n",
              "    </tr>\n",
              "    <tr>\n",
              "      <th>7</th>\n",
              "      <td>In the wake of yet another court decision that...</td>\n",
              "      <td>0</td>\n",
              "    </tr>\n",
              "    <tr>\n",
              "      <th>8</th>\n",
              "      <td>Many people have raised the alarm regarding th...</td>\n",
              "      <td>0</td>\n",
              "    </tr>\n",
              "    <tr>\n",
              "      <th>9</th>\n",
              "      <td>Just when you might have thought we d get a br...</td>\n",
              "      <td>0</td>\n",
              "    </tr>\n",
              "  </tbody>\n",
              "</table>\n",
              "</div>"
            ],
            "text/plain": [
              "                                                text  target\n",
              "0  Donald Trump just couldn t wish all Americans ...       0\n",
              "1  House Intelligence Committee Chairman Devin Nu...       0\n",
              "2  On Friday, it was revealed that former Milwauk...       0\n",
              "3  On Christmas day, Donald Trump announced that ...       0\n",
              "4  Pope Francis used his annual Christmas Day mes...       0\n",
              "5  The number of cases of cops brutalizing and ki...       0\n",
              "6  Donald Trump spent a good portion of his day a...       0\n",
              "7  In the wake of yet another court decision that...       0\n",
              "8  Many people have raised the alarm regarding th...       0\n",
              "9  Just when you might have thought we d get a br...       0"
            ]
          },
          "execution_count": 101,
          "metadata": {},
          "output_type": "execute_result"
        }
      ],
      "source": [
        "df.head(10)"
      ]
    },
    {
      "cell_type": "code",
      "execution_count": 102,
      "metadata": {
        "colab": {
          "base_uri": "https://localhost:8080/",
          "height": 363
        },
        "id": "61UlMRK8ZUTp",
        "outputId": "2c624e01-b58f-4199-cc1e-e09744d6c084"
      },
      "outputs": [
        {
          "data": {
            "text/html": [
              "<div>\n",
              "<style scoped>\n",
              "    .dataframe tbody tr th:only-of-type {\n",
              "        vertical-align: middle;\n",
              "    }\n",
              "\n",
              "    .dataframe tbody tr th {\n",
              "        vertical-align: top;\n",
              "    }\n",
              "\n",
              "    .dataframe thead th {\n",
              "        text-align: right;\n",
              "    }\n",
              "</style>\n",
              "<table border=\"1\" class=\"dataframe\">\n",
              "  <thead>\n",
              "    <tr style=\"text-align: right;\">\n",
              "      <th></th>\n",
              "      <th>text</th>\n",
              "      <th>target</th>\n",
              "    </tr>\n",
              "  </thead>\n",
              "  <tbody>\n",
              "    <tr>\n",
              "      <th>17355</th>\n",
              "      <td>BISHKEK () - European observers said on Monday...</td>\n",
              "      <td>1</td>\n",
              "    </tr>\n",
              "    <tr>\n",
              "      <th>17450</th>\n",
              "      <td>JAMESTOWN, St. Helena () - One of humanity s m...</td>\n",
              "      <td>1</td>\n",
              "    </tr>\n",
              "    <tr>\n",
              "      <th>17491</th>\n",
              "      <td>JOHANNESBURG () - South Africa s ruling Africa...</td>\n",
              "      <td>1</td>\n",
              "    </tr>\n",
              "    <tr>\n",
              "      <th>20468</th>\n",
              "      <td>WASHINGTON () - U.S. President Donald Trump on...</td>\n",
              "      <td>1</td>\n",
              "    </tr>\n",
              "    <tr>\n",
              "      <th>16004</th>\n",
              "      <td>President Trump tweeted that he was considerin...</td>\n",
              "      <td>0</td>\n",
              "    </tr>\n",
              "    <tr>\n",
              "      <th>6551</th>\n",
              "      <td>After Tuesday s semi-coronation of Donald Trum...</td>\n",
              "      <td>0</td>\n",
              "    </tr>\n",
              "    <tr>\n",
              "      <th>19497</th>\n",
              "      <td>BEIJING () -  Good preparations  should be mad...</td>\n",
              "      <td>1</td>\n",
              "    </tr>\n",
              "    <tr>\n",
              "      <th>18679</th>\n",
              "      <td>HAVANA () - The United States  decision to red...</td>\n",
              "      <td>1</td>\n",
              "    </tr>\n",
              "    <tr>\n",
              "      <th>21344</th>\n",
              "      <td>Politically correct racism condoned by the Lef...</td>\n",
              "      <td>0</td>\n",
              "    </tr>\n",
              "    <tr>\n",
              "      <th>19001</th>\n",
              "      <td>Farmers and ranchers are being run off their ...</td>\n",
              "      <td>0</td>\n",
              "    </tr>\n",
              "  </tbody>\n",
              "</table>\n",
              "</div>"
            ],
            "text/plain": [
              "                                                    text  target\n",
              "17355  BISHKEK () - European observers said on Monday...       1\n",
              "17450  JAMESTOWN, St. Helena () - One of humanity s m...       1\n",
              "17491  JOHANNESBURG () - South Africa s ruling Africa...       1\n",
              "20468  WASHINGTON () - U.S. President Donald Trump on...       1\n",
              "16004  President Trump tweeted that he was considerin...       0\n",
              "6551   After Tuesday s semi-coronation of Donald Trum...       0\n",
              "19497  BEIJING () -  Good preparations  should be mad...       1\n",
              "18679  HAVANA () - The United States  decision to red...       1\n",
              "21344  Politically correct racism condoned by the Lef...       0\n",
              "19001   Farmers and ranchers are being run off their ...       0"
            ]
          },
          "execution_count": 102,
          "metadata": {},
          "output_type": "execute_result"
        }
      ],
      "source": [
        "df = df.sample(frac=1)\n",
        "df.head(10)"
      ]
    },
    {
      "cell_type": "code",
      "execution_count": 103,
      "metadata": {
        "colab": {
          "base_uri": "https://localhost:8080/",
          "height": 363
        },
        "id": "i5kcLxP-ZlX5",
        "outputId": "22012dfc-780b-4981-ccf2-ad615e6964a5"
      },
      "outputs": [
        {
          "data": {
            "text/html": [
              "<div>\n",
              "<style scoped>\n",
              "    .dataframe tbody tr th:only-of-type {\n",
              "        vertical-align: middle;\n",
              "    }\n",
              "\n",
              "    .dataframe tbody tr th {\n",
              "        vertical-align: top;\n",
              "    }\n",
              "\n",
              "    .dataframe thead th {\n",
              "        text-align: right;\n",
              "    }\n",
              "</style>\n",
              "<table border=\"1\" class=\"dataframe\">\n",
              "  <thead>\n",
              "    <tr style=\"text-align: right;\">\n",
              "      <th></th>\n",
              "      <th>text</th>\n",
              "      <th>target</th>\n",
              "    </tr>\n",
              "  </thead>\n",
              "  <tbody>\n",
              "    <tr>\n",
              "      <th>0</th>\n",
              "      <td>BISHKEK () - European observers said on Monday...</td>\n",
              "      <td>1</td>\n",
              "    </tr>\n",
              "    <tr>\n",
              "      <th>1</th>\n",
              "      <td>JAMESTOWN, St. Helena () - One of humanity s m...</td>\n",
              "      <td>1</td>\n",
              "    </tr>\n",
              "    <tr>\n",
              "      <th>2</th>\n",
              "      <td>JOHANNESBURG () - South Africa s ruling Africa...</td>\n",
              "      <td>1</td>\n",
              "    </tr>\n",
              "    <tr>\n",
              "      <th>3</th>\n",
              "      <td>WASHINGTON () - U.S. President Donald Trump on...</td>\n",
              "      <td>1</td>\n",
              "    </tr>\n",
              "    <tr>\n",
              "      <th>4</th>\n",
              "      <td>President Trump tweeted that he was considerin...</td>\n",
              "      <td>0</td>\n",
              "    </tr>\n",
              "    <tr>\n",
              "      <th>5</th>\n",
              "      <td>After Tuesday s semi-coronation of Donald Trum...</td>\n",
              "      <td>0</td>\n",
              "    </tr>\n",
              "    <tr>\n",
              "      <th>6</th>\n",
              "      <td>BEIJING () -  Good preparations  should be mad...</td>\n",
              "      <td>1</td>\n",
              "    </tr>\n",
              "    <tr>\n",
              "      <th>7</th>\n",
              "      <td>HAVANA () - The United States  decision to red...</td>\n",
              "      <td>1</td>\n",
              "    </tr>\n",
              "    <tr>\n",
              "      <th>8</th>\n",
              "      <td>Politically correct racism condoned by the Lef...</td>\n",
              "      <td>0</td>\n",
              "    </tr>\n",
              "    <tr>\n",
              "      <th>9</th>\n",
              "      <td>Farmers and ranchers are being run off their ...</td>\n",
              "      <td>0</td>\n",
              "    </tr>\n",
              "  </tbody>\n",
              "</table>\n",
              "</div>"
            ],
            "text/plain": [
              "                                                text  target\n",
              "0  BISHKEK () - European observers said on Monday...       1\n",
              "1  JAMESTOWN, St. Helena () - One of humanity s m...       1\n",
              "2  JOHANNESBURG () - South Africa s ruling Africa...       1\n",
              "3  WASHINGTON () - U.S. President Donald Trump on...       1\n",
              "4  President Trump tweeted that he was considerin...       0\n",
              "5  After Tuesday s semi-coronation of Donald Trum...       0\n",
              "6  BEIJING () -  Good preparations  should be mad...       1\n",
              "7  HAVANA () - The United States  decision to red...       1\n",
              "8  Politically correct racism condoned by the Lef...       0\n",
              "9   Farmers and ranchers are being run off their ...       0"
            ]
          },
          "execution_count": 103,
          "metadata": {},
          "output_type": "execute_result"
        }
      ],
      "source": [
        "df.reset_index(inplace=True)\n",
        "df.drop([\"index\"], axis = 1, inplace = True)\n",
        "df.head(10)"
      ]
    },
    {
      "cell_type": "code",
      "execution_count": 104,
      "metadata": {
        "id": "zSPay482aKGC"
      },
      "outputs": [],
      "source": [
        "def wordopt(text):\n",
        "    text = text.lower()\n",
        "    text = re.sub('\\[.*?\\]','',text)\n",
        "    text = re.sub('[()]','',text)\n",
        "    text = re.sub('\\\\W',' ',text)\n",
        "    text = re.sub('https?://\\S+|www\\.\\S+', '', text)\n",
        "    text = re.sub('<.*?>+', '', text)\n",
        "    text = re.sub('[%s]' % re.escape(string.punctuation), '', text)\n",
        "    text = re.sub('\\n', '', text)\n",
        "    text = re.sub('\\w*\\d\\w*', '', text)\n",
        "    return text"
      ]
    },
    {
      "cell_type": "code",
      "execution_count": 105,
      "metadata": {
        "colab": {
          "base_uri": "https://localhost:8080/",
          "height": 424
        },
        "id": "ygG_dmkVahIb",
        "outputId": "d3e23c2b-899b-4efe-a6ae-65a7f948203d"
      },
      "outputs": [
        {
          "data": {
            "text/html": [
              "<div>\n",
              "<style scoped>\n",
              "    .dataframe tbody tr th:only-of-type {\n",
              "        vertical-align: middle;\n",
              "    }\n",
              "\n",
              "    .dataframe tbody tr th {\n",
              "        vertical-align: top;\n",
              "    }\n",
              "\n",
              "    .dataframe thead th {\n",
              "        text-align: right;\n",
              "    }\n",
              "</style>\n",
              "<table border=\"1\" class=\"dataframe\">\n",
              "  <thead>\n",
              "    <tr style=\"text-align: right;\">\n",
              "      <th></th>\n",
              "      <th>text</th>\n",
              "      <th>target</th>\n",
              "    </tr>\n",
              "  </thead>\n",
              "  <tbody>\n",
              "    <tr>\n",
              "      <th>0</th>\n",
              "      <td>bishkek    european observers said on monday v...</td>\n",
              "      <td>1</td>\n",
              "    </tr>\n",
              "    <tr>\n",
              "      <th>1</th>\n",
              "      <td>jamestown  st  helena    one of humanity s mos...</td>\n",
              "      <td>1</td>\n",
              "    </tr>\n",
              "    <tr>\n",
              "      <th>2</th>\n",
              "      <td>johannesburg    south africa s ruling african ...</td>\n",
              "      <td>1</td>\n",
              "    </tr>\n",
              "    <tr>\n",
              "      <th>3</th>\n",
              "      <td>washington    u s  president donald trump on s...</td>\n",
              "      <td>1</td>\n",
              "    </tr>\n",
              "    <tr>\n",
              "      <th>4</th>\n",
              "      <td>president trump tweeted that he was considerin...</td>\n",
              "      <td>0</td>\n",
              "    </tr>\n",
              "    <tr>\n",
              "      <th>...</th>\n",
              "      <td>...</td>\n",
              "      <td>...</td>\n",
              "    </tr>\n",
              "    <tr>\n",
              "      <th>95</th>\n",
              "      <td>seattle    u s  defense secretary ash carter t...</td>\n",
              "      <td>1</td>\n",
              "    </tr>\n",
              "    <tr>\n",
              "      <th>96</th>\n",
              "      <td>i know you ll miss me   did he really say tha...</td>\n",
              "      <td>0</td>\n",
              "    </tr>\n",
              "    <tr>\n",
              "      <th>97</th>\n",
              "      <td>north korea just blinked with the strong state...</td>\n",
              "      <td>0</td>\n",
              "    </tr>\n",
              "    <tr>\n",
              "      <th>98</th>\n",
              "      <td>barack hussein obama has been in over his head...</td>\n",
              "      <td>0</td>\n",
              "    </tr>\n",
              "    <tr>\n",
              "      <th>99</th>\n",
              "      <td>president elect donald trump came to the defen...</td>\n",
              "      <td>0</td>\n",
              "    </tr>\n",
              "  </tbody>\n",
              "</table>\n",
              "<p>100 rows × 2 columns</p>\n",
              "</div>"
            ],
            "text/plain": [
              "                                                 text  target\n",
              "0   bishkek    european observers said on monday v...       1\n",
              "1   jamestown  st  helena    one of humanity s mos...       1\n",
              "2   johannesburg    south africa s ruling african ...       1\n",
              "3   washington    u s  president donald trump on s...       1\n",
              "4   president trump tweeted that he was considerin...       0\n",
              "..                                                ...     ...\n",
              "95  seattle    u s  defense secretary ash carter t...       1\n",
              "96   i know you ll miss me   did he really say tha...       0\n",
              "97  north korea just blinked with the strong state...       0\n",
              "98  barack hussein obama has been in over his head...       0\n",
              "99  president elect donald trump came to the defen...       0\n",
              "\n",
              "[100 rows x 2 columns]"
            ]
          },
          "execution_count": 105,
          "metadata": {},
          "output_type": "execute_result"
        }
      ],
      "source": [
        "df[\"text\"] = df[\"text\"].apply(wordopt)\n",
        "df.head(100)"
      ]
    },
    {
      "cell_type": "code",
      "execution_count": 43,
      "metadata": {
        "colab": {
          "base_uri": "https://localhost:8080/"
        },
        "id": "9o1Vh8hWakyS",
        "outputId": "2d714da7-c1b9-4236-b0ed-dc920a3c9cc8"
      },
      "outputs": [
        {
          "data": {
            "text/plain": [
              "(44919,)"
            ]
          },
          "execution_count": 43,
          "metadata": {},
          "output_type": "execute_result"
        }
      ],
      "source": [
        "X = df[\"text\"]\n",
        "Y = df[\"target\"]\n",
        "X.shape"
      ]
    },
    {
      "cell_type": "code",
      "execution_count": 44,
      "metadata": {
        "colab": {
          "base_uri": "https://localhost:8080/"
        },
        "id": "nWUskws3alkp",
        "outputId": "21c77753-698b-4c08-9594-82e990dd58e1"
      },
      "outputs": [
        {
          "data": {
            "text/plain": [
              "(31443,)"
            ]
          },
          "execution_count": 44,
          "metadata": {},
          "output_type": "execute_result"
        }
      ],
      "source": [
        "X_train,x_test,Y_train,y_test = train_test_split(X,Y,test_size=0.3)\n",
        "X_train.shape"
      ]
    },
    {
      "cell_type": "code",
      "execution_count": 45,
      "metadata": {
        "colab": {
          "base_uri": "https://localhost:8080/"
        },
        "id": "f3i5u687anqJ",
        "outputId": "6d2099f8-f680-4b19-d1b5-89ac0684507a"
      },
      "outputs": [
        {
          "name": "stdout",
          "output_type": "stream",
          "text": [
            "43409    does anyone remember the    rebate offered to ...\n",
            "44542    washington    president donald trump acknowled...\n",
            "28844    berlin    germany sought to cool tempers over ...\n",
            "19972    in an op ed that puts to rest any notion that ...\n",
            "17116    monrovia    former soccer star george weah lea...\n",
            "                               ...                        \n",
            "40631    nice threat to potus   the intelligence commun...\n",
            "26214    washington    here are some of the highlights ...\n",
            "31093    the republican party should be prepared to los...\n",
            "39321    washington    u s  house of representatives sp...\n",
            "21752    cj pearson  the  year old conservative social ...\n",
            "Name: text, Length: 31443, dtype: object\n",
            "['donald', 'trump', 'threw', 'an', 'early', 'morning', 'temper', 'tantrum', 'on', 'twitter', 'again', 'last', 'week', 'trump', 'let', 'his', 'daughter', 'ivanka', 'take', 'over', 'for', 'him', 'at', 'the', 'giving', 'her', 'his', 'seat', 'at', 'the', 'conference', 'table', 'national', 'outrage', 'ensued', 'because', 'ivanka', 'is', 'not', 'an', 'elected', 'official', 'nor', 'does', 'she', 'have', 'any', 'political', 'or', 'diplomatic', 'experience', 'the', 'incident', 'also', 'served', 'as', 'reminder', 'of', 'the', 'nepotism', 'practiced', 'in', 'trump', 'white', 'house', 'on', 'monday', 'morning', 'trump', 'lashed', 'out', 'and', 'actually', 'attacked', 'hillary', 'clinton', 'daughter', 'chelsea', 'in', 'defense', 'of', 'his', 'irresponsible', 'decision', 'to', 'let', 'ivanka', 'take', 'his', 'place', 'when', 'left', 'conference', 'room', 'for', 'short', 'meetings', 'with', 'japan', 'and', 'other', 'countries', 'asked', 'ivanka', 'to', 'hold', 'seat', 'very', 'standard', 'angela', 'agrees', 'donald', 'trump', 'realdonaldtrump', 'july', 'chelsea', 'clinton', 'were', 'asked', 'to', 'hold', 'the', 'seat', 'for', 'her', 'mother', 'as', 'her', 'mother', 'gave', 'our', 'country', 'away', 'the', 'fake', 'news', 'would', 'say', 'chelsea', 'for', 'pres', 'donald', 'trump', 'realdonaldtrump', 'july', 'should', 'ask', 'german', 'chancellor', 'angela', 'merkel', 'about', 'this', 'because', 'it', 'likely', 'she', 'll', 'contradict', 'trump', 'claim', 'of', 'course', 'bill', 'clinton', 'never', 'let', 'chelsea', 'take', 'his', 'seat', 'at', 'the', 'and', 'president', 'obama', 'certainly', 'never', 'let', 'his', 'daughter', 'malia', 'take', 'his', 'seat', 'at', 'the', 'either', 'both', 'would', 'have', 'been', 'criticized', 'for', 'it', 'and', 'hillary', 'would', 'have', 'been', 'criticized', 'for', 'it', 'as', 'well', 'especially', 'by', 'conservatives', 'who', 'would', 'have', 'thrown', 'the', 'mother', 'of', 'all', 'hissy', 'fits', 'in', 'fact', 'don', 'think', 'president', 'has', 'ever', 'let', 'their', 'kids', 'take', 'over', 'for', 'them', 'in', 'such', 'way', 'so', 'despite', 'what', 'trump', 'claims', 'it', 'is', 'not', 'very', 'standard', 'trump', 'effort', 'to', 'defend', 'his', 'bad', 'decisions', 'by', 'bringing', 'up', 'what', 'is', 'very', 'much', 'now', 'hypothetical', 'is', 'pathetic', 'we', 'll', 'never', 'know', 'if', 'hillary', 'would', 'have', 'done', 'such', 'thing', 'because', 'she', 'isn', 'president', 'but', 'trump', 'is', 'and', 'that', 'means', 'his', 'behavior', 'is', 'open', 'for', 'criticism', 'besides', 'chelsea', 'clinton', 'herself', 'responded', 'to', 'trump', 'and', 'made', 'it', 'clear', 'that', 'her', 'parents', 'would', 'never', 'have', 'considered', 'doing', 'what', 'trump', 'did', 'good', 'morning', 'mr', 'president', 'it', 'would', 'never', 'have', 'occurred', 'to', 'my', 'mother', 'or', 'my', 'father', 'to', 'ask', 'me', 'were', 'you', 'giving', 'our', 'country', 'away', 'hoping', 'not', 'https', 'co', 'chelsea', 'clinton', 'chelseaclinton', 'july', 'twitter', 'users', 'responded', 'by', 'blasting', 'trump', 'to', 'smithereens', 'hrc', 'praised', 'trump', 'kids', 'at', 'debate', 'now', 'trump', 'tries', 'to', 'use', 'chelsea', 'as', 'political', 'human', 'shield', 'what', 'classless', 'comment', 'adam', 'best', 'adamcbest', 'july', 'get', 'real', 'if', 'chelsea', 'sat', 'in', 'potus', 'hrc', 'seat', 'for', 'five', 'minutes', 'everybody', 'from', 'sean', 'hannity', 'to', 'paul', 'ryan', 'would', 'be', 'screaming', 'impeachment', 'adam', 'best', 'adamcbest', 'july', 'chelsea', 'clinton', 'had', 'been', 'asked', 'to', 'hold', 'the', 'seat', 'for', 'her', 'mother', 'republicans', 'would', 'have', 'been', 'outraged', 'edward', 'hardy', 'edwardthardy', 'july', 'and', 'misogyny', 'at', 'the', 'same', 'time', 'shameful', 'eugene', 'gu', 'md', 'eugenegu', 'july', 'that', 'what', 'you', 'were', 'busy', 'doing', 'giving', 'the', 'country', 'away', 'jemaine', 'clement', 'ajemaineclement', 'july', 'your', 'side', 'would', 'be', 'calling', 'for', 'hillaryclinton', 'impeachment', 'https', 'co', 'evan', 'connell', 'evanoconnell', 'july', 'also', 'has', 'phd', 'in', 'international', 'relations', 'so', 'she', 'sort', 'of', 'more', 'qualified', 'yo', 'andrea', 'kuszewski', 'andreakuszewski', 'july', 'image', 'alex', 'wong', 'getty', 'images']\n",
            "(31443, 92638)\n",
            "(13476, 92638)\n"
          ]
        }
      ],
      "source": [
        "from sklearn.feature_extraction.text import TfidfVectorizer\n",
        "\n",
        "print(X_train)\n",
        "vectorization = TfidfVectorizer()\n",
        "analyze = vectorization.build_analyzer()\n",
        "print(analyze(X_train[0]))\n",
        "xv_train = vectorization.fit_transform(X_train)\n",
        "xv_test = vectorization.transform(x_test)\n",
        "print(xv_train.shape)\n",
        "print(xv_test.shape)"
      ]
    },
    {
      "cell_type": "code",
      "execution_count": 46,
      "metadata": {
        "colab": {
          "base_uri": "https://localhost:8080/"
        },
        "id": "eYP5i73-aqHZ",
        "outputId": "4befc237-a2e6-401e-92fd-91c58ec09a2e"
      },
      "outputs": [],
      "source": [
        "#from sklearn.linear_model import LogisticRegression\n",
        "#lr = LogisticRegression()\n",
        "\n",
        "#lr.fit(xv_train,Y_train)\n",
        "#print(\"The Accuracy of the Logistic Regression Model is {}\".format(lr.score(xv_test,y_test)))\n",
        "#print(classification_report(y_test,lr.predict(xv_test)))"
      ]
    },
    {
      "cell_type": "code",
      "execution_count": 47,
      "metadata": {
        "colab": {
          "base_uri": "https://localhost:8080/"
        },
        "id": "3PdMHXkRbDbr",
        "outputId": "88772c30-f567-497c-bb2a-1d408efeaa58"
      },
      "outputs": [
        {
          "name": "stdout",
          "output_type": "stream",
          "text": [
            "The Accuracy of the Decision Tree Classifier Model is 0.9495399228257643\n",
            "              precision    recall  f1-score   support\n",
            "\n",
            "           0       0.94      0.96      0.95      7061\n",
            "           1       0.96      0.94      0.95      6415\n",
            "\n",
            "    accuracy                           0.95     13476\n",
            "   macro avg       0.95      0.95      0.95     13476\n",
            "weighted avg       0.95      0.95      0.95     13476\n",
            "\n"
          ]
        }
      ],
      "source": [
        "from sklearn.tree import DecisionTreeClassifier\n",
        "dtc = DecisionTreeClassifier()\n",
        "dtc.fit(xv_train,Y_train)\n",
        "print(\"The Accuracy of the Decision Tree Classifier Model is {}\".format(dtc.score(xv_test,y_test)))\n",
        "print(classification_report(y_test,dtc.predict(xv_test)))"
      ]
    },
    {
      "cell_type": "code",
      "execution_count": 48,
      "metadata": {},
      "outputs": [
        {
          "name": "stdout",
          "output_type": "stream",
          "text": [
            "The Accuracy of the Naive Bayes Model is 0.9321015138023152\n",
            "              precision    recall  f1-score   support\n",
            "\n",
            "           0       0.93      0.95      0.94      7061\n",
            "           1       0.94      0.92      0.93      6415\n",
            "\n",
            "    accuracy                           0.93     13476\n",
            "   macro avg       0.93      0.93      0.93     13476\n",
            "weighted avg       0.93      0.93      0.93     13476\n",
            "\n"
          ]
        }
      ],
      "source": [
        "from sklearn.naive_bayes import MultinomialNB\n",
        "nbc = MultinomialNB()\n",
        "\n",
        "# Train the classifier\n",
        "nbc.fit(xv_train, Y_train)\n",
        "\n",
        "# Evaluate the classifier\n",
        "accuracy = nbc.score(xv_test, y_test)\n",
        "print(\"The Accuracy of the Naive Bayes Model is {}\".format(accuracy))\n",
        "\n",
        "# Print classification report\n",
        "print(classification_report(y_test, nbc.predict(xv_test)))"
      ]
    },
    {
      "cell_type": "code",
      "execution_count": 49,
      "metadata": {
        "colab": {
          "base_uri": "https://localhost:8080/"
        },
        "id": "idf0r9roar2x",
        "outputId": "60196e55-a564-43ce-f827-f3c0c13cdda0"
      },
      "outputs": [],
      "source": [
        "#from sklearn.ensemble import GradientBoostingClassifier\n",
        "#gclf = GradientBoostingClassifier()\n",
        "#gclf.fit(xv_train,Y_train)\n",
        "#print(\"The Accuracy of the Decision Tree Classifier Model is {}\".format(gclf.score(xv_test,y_test)))\n",
        "#print(classification_report(y_test,gclf.predict(xv_test)))"
      ]
    },
    {
      "cell_type": "code",
      "execution_count": 50,
      "metadata": {
        "colab": {
          "base_uri": "https://localhost:8080/"
        },
        "id": "NYabFG5YbHEy",
        "outputId": "aacb0b3c-b81b-4fd9-ab56-b41853718687"
      },
      "outputs": [],
      "source": [
        "#from sklearn.ensemble import RandomForestClassifier\n",
        "#rclf = RandomForestClassifier()\n",
        "#rclf.fit(xv_train,Y_train)\n",
        "#print(\"The Accuracy of the Random Forest Classifier Model is {}\".format(rclf.score(xv_test,y_test)))\n",
        "#print(classification_report(y_test,rclf.predict(xv_test)))"
      ]
    },
    {
      "cell_type": "code",
      "execution_count": 53,
      "metadata": {},
      "outputs": [
        {
          "name": "stdout",
          "output_type": "stream",
          "text": [
            "The Accuracy of the Voting Classifier Model is 0.9337340457108935\n",
            "              precision    recall  f1-score   support\n",
            "\n",
            "           0       0.89      0.99      0.94      7061\n",
            "           1       0.99      0.87      0.93      6415\n",
            "\n",
            "    accuracy                           0.93     13476\n",
            "   macro avg       0.94      0.93      0.93     13476\n",
            "weighted avg       0.94      0.93      0.93     13476\n",
            "\n"
          ]
        }
      ],
      "source": [
        "from sklearn.ensemble import VotingClassifier\n",
        "\n",
        "# Creating a VotingClassifier\n",
        "voting_clf = VotingClassifier(estimators=[\n",
        "    ('nb', nbc),\n",
        "    ('dt', dtc)\n",
        "], voting='hard')  # Use 'soft' for probability averaging\n",
        "\n",
        "# Training the ensemble model\n",
        "voting_clf.fit(xv_train, Y_train)\n",
        "\n",
        "# Predict using the ensemble model\n",
        "ensemble_predictions = voting_clf.predict(xv_test)\n",
        "\n",
        "# Evaluate the ensemble model\n",
        "accuracy = accuracy_score(y_test, ensemble_predictions)\n",
        "print(f\"The Accuracy of the Voting Classifier Model is {accuracy}\")\n",
        "print(classification_report(y_test, ensemble_predictions))"
      ]
    },
    {
      "cell_type": "code",
      "execution_count": 59,
      "metadata": {
        "id": "STJliV0LbJXz"
      },
      "outputs": [],
      "source": [
        "def output_lable(n):\n",
        "    if n == 0:\n",
        "        return \"Fake News\"\n",
        "    elif n == 1:\n",
        "        return \"Not A Fake News\"\n",
        "\n",
        "def manual_testing(news):\n",
        "    testing_news = {\"text\":[news]}\n",
        "    new_def_test = pd.DataFrame(testing_news)\n",
        "    new_def_test[\"text\"] = new_def_test[\"text\"].apply(wordopt)\n",
        "    new_x_test = new_def_test[\"text\"]\n",
        "    new_xv_test = vectorization.transform(new_x_test)\n",
        "    #pred_LR = lr.predict(new_xv_test)\n",
        "    pred_DT = dtc.predict(new_xv_test)\n",
        "    pred_NBC = nbc.predict(new_xv_test)\n",
        "    pred_VC = voting_clf.predict(new_xv_test)\n",
        "    #pred_GBC = gclf.predict(new_xv_test)\n",
        "    #pred_RFC = rclf.predict(new_xv_test)\n",
        "\n",
        "    return print(\"\\nDT Prediction: {} \\nNBC Prediction: {} \\nVoting Classifier Prediction: {}\".format(output_lable(pred_DT[0]),                                                                                                      \n",
        "                                                                                                      output_lable(pred_NBC[0]),\n",
        "                                                                                                      output_lable(pred_VC[0])))\n",
        "                                                                                                    \n",
        "\n",
        "    #return print(\"\\n\\nLR Prediction: {} \\nDT Prediction: {} \\nGBC Prediction: {} \\nRFC Prediction: {}\".format(output_lable(pred_LR[0]),                                                                                                       output_lable(pred_DT[0]),\n",
        "                                                                                                              #output_lable(pred_GBC[0]),\n",
        "                                                                                                              #output_lable(pred_RFC[0])))"
      ]
    },
    {
      "cell_type": "code",
      "execution_count": 65,
      "metadata": {
        "colab": {
          "base_uri": "https://localhost:8080/"
        },
        "id": "QAKMmMyrbM-p",
        "outputId": "8983142e-da6c-4e9a-e243-db64609d4953"
      },
      "outputs": [
        {
          "name": "stdout",
          "output_type": "stream",
          "text": [
            "\n",
            "DT Prediction: Not A Fake News \n",
            "NBC Prediction: Not A Fake News \n",
            "Voting Classifier Prediction: Not A Fake News\n"
          ]
        }
      ],
      "source": [
        "news = str(input()) #\"ATHENS (Reuters) - Rescue teams took people out of floodwaters in inflatable boats and in bulldozers on Saturday as they moved into villages hit hardest by a sweeping rainstorm that killed at least 10 people in central Greece this week.\"\n",
        "manual_testing(news) #this was true, collected from https://www.usnews.com/news/world/articles/2023-09-09/greek-rescue-teams-move-into-worst-hit-flood-villages"
      ]
    },
    {
      "cell_type": "code",
      "execution_count": 108,
      "metadata": {
        "colab": {
          "base_uri": "https://localhost:8080/"
        },
        "id": "gVexgc4SeMnV",
        "outputId": "d32ab969-a060-43ae-ae66-ebdd3442c2af"
      },
      "outputs": [
        {
          "name": "stdout",
          "output_type": "stream",
          "text": [
            "\n",
            "DT Prediction: Fake News \n",
            "NBC Prediction: Fake News \n",
            "Voting Classifier Prediction: Fake News\n"
          ]
        }
      ],
      "source": [
        "news = str(input()) # \"BREAKING: Scientist Discovers Alien Life on Mars! In a groundbreaking discovery, Dr. John Smith has found undeniable evidence of alien life on Mars. According to Dr. Smith, sophisticated organisms are thriving in underground caves on the red planet. This discovery was made possible by a new type of radar technology developed by NASA, which can penetrate deep below the Martian surface. The scientific community is in a state of excitement and skepticism as they await further confirmation and details.\"\n",
        "manual_testing(news)"
      ]
    },
    {
      "cell_type": "code",
      "execution_count": 109,
      "metadata": {},
      "outputs": [],
      "source": [
        "\n",
        "# Creating DataFrame with actual and predicted values\n",
        "#results_df = pd.DataFrame({'Actual': y_test, 'Predicted': ensemble_predictions})\n",
        "#print(results_df.head(10))  # Print the first 10 rows for demonstration\n"
      ]
    },
    {
      "cell_type": "code",
      "execution_count": null,
      "metadata": {},
      "outputs": [],
      "source": []
    }
  ],
  "metadata": {
    "colab": {
      "provenance": []
    },
    "kernelspec": {
      "display_name": "Python 3",
      "name": "python3"
    },
    "language_info": {
      "codemirror_mode": {
        "name": "ipython",
        "version": 3
      },
      "file_extension": ".py",
      "mimetype": "text/x-python",
      "name": "python",
      "nbconvert_exporter": "python",
      "pygments_lexer": "ipython3",
      "version": "3.9.16"
    }
  },
  "nbformat": 4,
  "nbformat_minor": 0
}
